{
 "cells": [
  {
   "cell_type": "code",
   "execution_count": 1,
   "id": "f48f7104",
   "metadata": {},
   "outputs": [],
   "source": [
    "import numpy as np\n",
    "import matplotlib.pyplot as plt\n",
    "from matplotlib.animation import FuncAnimation, writers, MovieWriter\n",
    "import matplotlib.animation as animation\n",
    "import time\n",
    "from matplotlib.patches import Wedge\n",
    "from matplotlib.offsetbox import OffsetImage, AnnotationBbox\n",
    "from itertools import chain"
   ]
  },
  {
   "cell_type": "code",
   "execution_count": 2,
   "id": "eda91885",
   "metadata": {},
   "outputs": [],
   "source": [
    "predictions0 = np.load('res0.npy')\n",
    "\n",
    "predictions1 = np.load('res1.npy')\n",
    "predictions2 = np.load('res2.npy')\n",
    "\n",
    "predictions = [predictions0, predictions1, predictions2]"
   ]
  },
  {
   "cell_type": "code",
   "execution_count": 3,
   "id": "d0710567",
   "metadata": {},
   "outputs": [
    {
     "data": {
      "text/plain": [
       "(201, 401, 10, 2)"
      ]
     },
     "execution_count": 3,
     "metadata": {},
     "output_type": "execute_result"
    }
   ],
   "source": [
    "predictions1.shape"
   ]
  },
  {
   "cell_type": "code",
   "execution_count": 4,
   "id": "625d0d8b",
   "metadata": {},
   "outputs": [],
   "source": [
    "tables = np.load('static_obs_states.npy')"
   ]
  },
  {
   "cell_type": "code",
   "execution_count": 5,
   "id": "4ff61cef",
   "metadata": {},
   "outputs": [],
   "source": [
    "humans = np.load('dynamic_obs_states.npy')"
   ]
  },
  {
   "cell_type": "code",
   "execution_count": 6,
   "id": "9088c83d",
   "metadata": {},
   "outputs": [],
   "source": [
    "human_controls = np.load('dynamic_obs_controls.npy')"
   ]
  },
  {
   "cell_type": "code",
   "execution_count": 7,
   "id": "2c0d3ace",
   "metadata": {},
   "outputs": [
    {
     "data": {
      "text/plain": [
       "array([[ 0.00000000e+00,  0.00000000e+00],\n",
       "       [ 1.59999845e-01,  4.70882325e-02],\n",
       "       [ 1.59999945e-01,  8.64453003e-02],\n",
       "       [ 1.59999945e-01,  1.18711239e-01],\n",
       "       [ 1.59999944e-01,  1.44526175e-01],\n",
       "       [ 1.59999944e-01,  1.64521037e-01],\n",
       "       [ 1.59999944e-01,  1.79311057e-01],\n",
       "       [ 1.59999944e-01,  1.89490123e-01],\n",
       "       [ 1.59999944e-01,  1.95624658e-01],\n",
       "       [ 1.59999944e-01,  1.98250366e-01],\n",
       "       [ 1.59999943e-01,  1.97870235e-01],\n",
       "       [ 1.59999943e-01,  1.94950871e-01],\n",
       "       [ 1.59999943e-01,  1.89922165e-01],\n",
       "       [ 1.59999943e-01,  1.83176591e-01],\n",
       "       [ 1.59999942e-01,  1.75069530e-01],\n",
       "       [ 1.59999942e-01,  1.65919892e-01],\n",
       "       [ 1.59999942e-01,  1.56010883e-01],\n",
       "       [ 1.59999941e-01,  1.45591678e-01],\n",
       "       [ 1.59999941e-01,  1.34879568e-01],\n",
       "       [ 1.59999940e-01,  1.24060981e-01],\n",
       "       [ 1.59999940e-01,  1.13295579e-01],\n",
       "       [ 1.59999939e-01,  1.02715567e-01],\n",
       "       [ 1.59999939e-01,  9.24303979e-02],\n",
       "       [ 1.59999938e-01,  8.25277997e-02],\n",
       "       [ 1.59999938e-01,  7.30771890e-02],\n",
       "       [ 1.59999937e-01,  6.41299075e-02],\n",
       "       [ 1.59999937e-01,  5.57230612e-02],\n",
       "       [ 1.59999936e-01,  4.78804706e-02],\n",
       "       [ 1.59999936e-01,  4.06146328e-02],\n",
       "       [ 1.59999935e-01,  3.39282820e-02],\n",
       "       [ 1.59999934e-01,  2.78164588e-02],\n",
       "       [ 1.59999934e-01,  2.22669626e-02],\n",
       "       [ 1.59999933e-01,  1.72629015e-02],\n",
       "       [ 1.59999932e-01,  1.27824441e-02],\n",
       "       [ 1.59999932e-01,  8.80037402e-03],\n",
       "       [ 1.59999931e-01,  5.28956936e-03],\n",
       "       [ 1.59999930e-01,  2.22095093e-03],\n",
       "       [ 1.59999930e-01, -4.36127549e-04],\n",
       "       [ 1.59999929e-01, -2.71181152e-03],\n",
       "       [ 1.59999928e-01, -4.63667589e-03],\n",
       "       [ 1.59999928e-01, -6.24111332e-03],\n",
       "       [ 1.59999927e-01, -7.55451158e-03],\n",
       "       [ 1.59999926e-01, -8.60627795e-03],\n",
       "       [ 1.59999905e-01, -7.79438237e-02],\n",
       "       [ 1.59999895e-01, -1.70526383e-01],\n",
       "       [ 1.59999900e-01, -2.49348944e-01],\n",
       "       [ 1.59999908e-01, -2.97719774e-01],\n",
       "       [ 1.59999908e-01, -3.22674924e-01],\n",
       "       [ 1.59999908e-01, -3.28605741e-01],\n",
       "       [ 1.59999908e-01, -3.19116504e-01],\n",
       "       [ 1.59999907e-01, -2.97051888e-01],\n",
       "       [ 1.59999907e-01, -2.64515418e-01],\n",
       "       [ 1.59999907e-01, -2.22804055e-01],\n",
       "       [ 1.59999901e-01, -1.68752280e-01],\n",
       "       [ 1.59999912e-01, -1.20538287e-01],\n",
       "       [ 1.59999910e-01, -7.77931574e-02],\n",
       "       [ 1.59999909e-01, -4.01447948e-02],\n",
       "       [ 1.59999907e-01, -7.22406170e-03],\n",
       "       [ 1.59999906e-01,  2.13327975e-02],\n",
       "       [ 1.59999905e-01,  4.58787717e-02],\n",
       "       [ 1.59999904e-01,  6.67552954e-02],\n",
       "       [ 1.59999903e-01,  8.42901188e-02],\n",
       "       [ 1.59999902e-01,  9.87956217e-02],\n",
       "       [ 1.59999901e-01,  1.10568247e-01],\n",
       "       [ 1.59999900e-01,  1.19887351e-01],\n",
       "       [ 1.59999898e-01,  1.27015545e-01],\n",
       "       [ 1.59999897e-01,  1.32198331e-01],\n",
       "       [ 1.59999896e-01,  1.35664304e-01],\n",
       "       [ 1.59999895e-01,  1.37624847e-01],\n",
       "       [ 1.59999894e-01,  1.38275388e-01],\n",
       "       [ 1.59999893e-01,  1.37794848e-01],\n",
       "       [ 1.59999891e-01,  1.36346932e-01],\n",
       "       [ 1.59999890e-01,  1.34080554e-01],\n",
       "       [ 1.59999889e-01,  1.31130571e-01],\n",
       "       [ 1.59999887e-01,  1.27618721e-01],\n",
       "       [ 1.59999886e-01,  1.23653881e-01],\n",
       "       [ 1.59999884e-01,  1.19333332e-01],\n",
       "       [ 1.59999882e-01,  1.14743462e-01],\n",
       "       [ 1.59999880e-01,  1.09960552e-01],\n",
       "       [ 1.59999879e-01,  1.05050797e-01],\n",
       "       [ 1.59999877e-01,  1.00072474e-01],\n",
       "       [ 1.59999875e-01,  9.50755874e-02],\n",
       "       [ 1.59999872e-01,  9.01030605e-02],\n",
       "       [ 1.59999870e-01,  8.51911782e-02],\n",
       "       [ 1.59999868e-01,  8.03704477e-02],\n",
       "       [ 1.59999852e-01,  1.04479534e-01],\n",
       "       [ 1.59999811e-01,  1.94114712e-01],\n",
       "       [ 1.59999815e-01,  2.75279060e-01],\n",
       "       [ 1.59999823e-01,  3.45946802e-01],\n",
       "       [ 1.59999833e-01,  4.06745533e-01],\n",
       "       [ 1.59999844e-01,  4.57313901e-01],\n",
       "       [ 1.59999855e-01,  4.92812088e-01],\n",
       "       [ 1.59999866e-01,  4.99998481e-01],\n",
       "       [ 1.59999877e-01,  4.99998813e-01],\n",
       "       [ 1.59999886e-01,  4.99998674e-01],\n",
       "       [ 1.59999894e-01,  4.99998163e-01],\n",
       "       [ 1.59999898e-01,  4.99997072e-01],\n",
       "       [ 1.59999902e-01,  4.99992833e-01],\n",
       "       [ 1.59999906e-01,  4.98274055e-01],\n",
       "       [ 1.59999909e-01,  4.91459334e-01],\n",
       "       [ 1.59999911e-01,  4.80278056e-01],\n",
       "       [ 1.59999913e-01,  4.65431254e-01],\n",
       "       [ 1.59999915e-01,  4.47577410e-01],\n",
       "       [ 1.59999916e-01,  4.27328138e-01],\n",
       "       [ 1.59999917e-01,  4.05245144e-01],\n",
       "       [ 1.59999917e-01,  3.81838111e-01],\n",
       "       [ 1.59999918e-01,  3.57564764e-01],\n",
       "       [ 1.59999918e-01,  3.32831223e-01],\n",
       "       [ 1.59999917e-01,  3.07991589e-01],\n",
       "       [ 1.59999917e-01,  2.83352811e-01],\n",
       "       [ 1.59999916e-01,  2.59175391e-01],\n",
       "       [ 1.59999916e-01,  2.35677102e-01],\n",
       "       [ 1.59999915e-01,  2.13036247e-01],\n",
       "       [ 1.59999914e-01,  1.91395154e-01],\n",
       "       [ 1.59999913e-01,  1.70863485e-01],\n",
       "       [ 1.59999911e-01,  1.45811475e-01],\n",
       "       [ 1.59999910e-01,  1.19443093e-01],\n",
       "       [ 1.59999909e-01,  9.16145685e-02],\n",
       "       [ 1.59999905e-01,  6.00251074e-02],\n",
       "       [ 1.59999893e-01,  3.31890326e-02],\n",
       "       [ 1.59999887e-01,  1.03613229e-02],\n",
       "       [ 1.59999885e-01, -9.34157808e-03],\n",
       "       [ 1.59999878e-01, -2.61713617e-02],\n",
       "       [ 1.59999866e-01, -4.00735981e-02],\n",
       "       [ 1.59999848e-01, -5.13899864e-02],\n",
       "       [ 1.59999820e-01, -6.10501497e-02],\n",
       "       [ 1.59999798e-01, -6.94280687e-02],\n",
       "       [ 1.59999772e-01, -7.63005348e-02],\n",
       "       [ 1.59999745e-01, -8.17539246e-02],\n",
       "       [ 1.59999746e-01, -8.59845841e-02],\n",
       "       [ 1.59999755e-01, -8.91394020e-02],\n",
       "       [ 1.59999758e-01, -9.16094983e-02],\n",
       "       [ 1.59999761e-01, -9.35789169e-02],\n",
       "       [ 1.59999766e-01, -9.51708142e-02],\n",
       "       [ 1.59999772e-01, -9.64627749e-02],\n",
       "       [ 1.59999778e-01, -9.74788622e-02],\n",
       "       [ 1.59999837e-01, -9.81547653e-02],\n",
       "       [ 1.59999768e-01, -9.84360473e-02],\n",
       "       [ 1.59999723e-01, -9.82804292e-02],\n",
       "       [ 1.59999731e-01, -9.77700754e-02],\n",
       "       [ 1.59999739e-01, -9.70343214e-02],\n",
       "       [ 1.59999730e-01, -9.61480497e-02],\n",
       "       [ 1.59999715e-01, -9.51373661e-02],\n",
       "       [ 1.59999698e-01, -9.40204584e-02],\n",
       "       [ 1.59999679e-01, -9.28187347e-02],\n",
       "       [ 1.59999657e-01, -9.15543208e-02],\n",
       "       [ 1.59999606e-01, -9.01296313e-02],\n",
       "       [ 1.59999506e-01, -8.89435492e-02],\n",
       "       [ 1.59999496e-01, -8.76161016e-02],\n",
       "       [ 1.59999489e-01, -8.62400839e-02],\n",
       "       [ 1.59999459e-01, -8.48655366e-02],\n",
       "       [ 1.59999420e-01, -8.35264353e-02],\n",
       "       [ 1.59999416e-01, -8.24604408e-02],\n",
       "       [ 1.59999386e-01, -8.21307098e-02],\n",
       "       [ 1.59999307e-01, -8.25956896e-02],\n",
       "       [ 1.59999163e-01, -8.37261934e-02],\n",
       "       [ 1.59998519e-01, -8.55784332e-02],\n",
       "       [ 1.59995183e-01, -8.59829959e-02],\n",
       "       [ 1.53677423e-01, -8.50130228e-02],\n",
       "       [ 1.41535819e-01, -8.30021389e-02],\n",
       "       [ 1.26242703e-01, -8.02338040e-02],\n",
       "       [ 1.09702224e-01, -7.69452349e-02],\n",
       "       [ 9.32186240e-02, -7.33309744e-02],\n",
       "       [ 7.76342450e-02, -6.95492024e-02],\n",
       "       [ 6.30910715e-02, -6.57374549e-02],\n",
       "       [ 4.91833493e-02, -6.20260398e-02],\n",
       "       [ 3.63002088e-02, -5.85017781e-02],\n",
       "       [ 2.48083183e-02, -5.52224613e-02],\n",
       "       [ 1.50642735e-02, -5.22189903e-02],\n",
       "       [ 7.42961075e-03, -4.94991853e-02],\n",
       "       [ 5.65849017e-04, -4.62436352e-02],\n",
       "       [ 6.31449495e-04, -4.41391245e-02],\n",
       "       [ 6.96205430e-04, -4.22467333e-02],\n",
       "       [ 8.80879480e-05, -4.03533598e-02],\n",
       "       [ 1.32358168e-04, -3.88457093e-02],\n",
       "       [ 8.21718284e-05, -3.74898051e-02],\n",
       "       [ 3.81544332e-05, -3.62698442e-02],\n",
       "       [ 2.46334048e-05, -3.51716354e-02],\n",
       "       [ 1.82772067e-05, -3.41823810e-02],\n",
       "       [ 1.44667768e-05, -3.32904516e-02],\n",
       "       [ 9.20567853e-06, -3.24863060e-02],\n",
       "       [ 1.49536063e-05, -3.17593510e-02],\n",
       "       [ 3.27074420e-06, -3.11037201e-02],\n",
       "       [ 3.47019322e-06, -3.05101011e-02],\n",
       "       [ 3.33768559e-06, -2.99729159e-02],\n",
       "       [ 3.04879309e-06, -2.94855465e-02],\n",
       "       [ 2.73072403e-06, -2.90432270e-02],\n",
       "       [ 2.42981393e-06, -2.86410514e-02],\n",
       "       [ 4.30455107e-06, -2.82748294e-02],\n",
       "       [ 5.89451641e-10, -2.79407828e-02],\n",
       "       [ 9.30255834e-09, -2.76356188e-02],\n",
       "       [ 2.84889585e-10, -2.73563544e-02],\n",
       "       [ 5.72789324e-10, -2.71002605e-02],\n",
       "       [ 2.92730060e-10, -2.68649137e-02],\n",
       "       [ 8.04658742e-10, -2.66481383e-02],\n",
       "       [ 3.92700407e-10, -2.64480116e-02],\n",
       "       [ 5.95825675e-10, -2.62627893e-02],\n",
       "       [ 6.07875509e-10, -2.60909167e-02],\n",
       "       [ 4.83872632e-10, -2.59310105e-02],\n",
       "       [ 6.71159723e-10, -2.57818208e-02],\n",
       "       [ 4.53565014e-10, -2.56422373e-02]])"
      ]
     },
     "execution_count": 7,
     "metadata": {},
     "output_type": "execute_result"
    }
   ],
   "source": [
    "humans[-1, 0, :, 3:]"
   ]
  },
  {
   "cell_type": "code",
   "execution_count": 8,
   "id": "dba117d4",
   "metadata": {},
   "outputs": [
    {
     "data": {
      "text/plain": [
       "(100, 4, 2)"
      ]
     },
     "execution_count": 8,
     "metadata": {},
     "output_type": "execute_result"
    }
   ],
   "source": [
    "tables.shape"
   ]
  },
  {
   "cell_type": "code",
   "execution_count": 13,
   "id": "b2fb8658",
   "metadata": {},
   "outputs": [],
   "source": [
    "task = tables.shape[0]  - 1"
   ]
  },
  {
   "cell_type": "code",
   "execution_count": 14,
   "id": "ad1bc7a0",
   "metadata": {},
   "outputs": [],
   "source": [
    "traj_len, pred_len, n_pred, _ = predictions[0].shape"
   ]
  },
  {
   "cell_type": "code",
   "execution_count": 23,
   "id": "f62ad71f",
   "metadata": {},
   "outputs": [
    {
     "name": "stdout",
     "output_type": "stream",
     "text": [
      "t:0\n"
     ]
    },
    {
     "ename": "TypeError",
     "evalue": "list indices must be integers or slices, not tuple",
     "output_type": "error",
     "traceback": [
      "\u001b[0;31m---------------------------------------------------------------------------\u001b[0m",
      "\u001b[0;31mTypeError\u001b[0m                                 Traceback (most recent call last)",
      "Cell \u001b[0;32mIn[23], line 3\u001b[0m\n\u001b[1;32m      1\u001b[0m \u001b[38;5;28;01mfor\u001b[39;00m t \u001b[38;5;129;01min\u001b[39;00m \u001b[38;5;28mrange\u001b[39m(traj_len):\n\u001b[1;32m      2\u001b[0m     \u001b[38;5;28mprint\u001b[39m(\u001b[38;5;124m'\u001b[39m\u001b[38;5;124mt:\u001b[39m\u001b[38;5;132;01m{}\u001b[39;00m\u001b[38;5;124m'\u001b[39m\u001b[38;5;241m.\u001b[39mformat(t))\n\u001b[0;32m----> 3\u001b[0m     \u001b[38;5;28mprint\u001b[39m(\u001b[43mpredictions\u001b[49m\u001b[43m[\u001b[49m\u001b[43mt\u001b[49m\u001b[43m,\u001b[49m\u001b[43m \u001b[49m\u001b[38;5;241;43m3\u001b[39;49m\u001b[43m,\u001b[49m\u001b[43m \u001b[49m\u001b[43m:\u001b[49m\u001b[43m,\u001b[49m\u001b[43m \u001b[49m\u001b[43m:\u001b[49m\u001b[38;5;241;43m2\u001b[39;49m\u001b[43m]\u001b[49m)\n",
      "\u001b[0;31mTypeError\u001b[0m: list indices must be integers or slices, not tuple"
     ]
    }
   ],
   "source": [
    "\n",
    "for t in range(traj_len):\n",
    "    print('t:{}'.format(t))\n",
    "    print(predictions[t, 3, :, :2])"
   ]
  },
  {
   "cell_type": "code",
   "execution_count": 15,
   "id": "0894f170",
   "metadata": {},
   "outputs": [],
   "source": [
    "table_pos = tables[task, :, :]\n",
    "trajectory = humans[task, 0, :, :]"
   ]
  },
  {
   "cell_type": "code",
   "execution_count": 16,
   "id": "ecb8610b",
   "metadata": {},
   "outputs": [
    {
     "data": {
      "image/png": "[encoded data removed]",
      "text/plain": [
       "<Figure size 640x480 with 1 Axes>"
      ]
     },
     "metadata": {},
     "output_type": "display_data"
    }
   ],
   "source": [
    "path = '~/anaconda3/bin/ffmpeg'\n",
    "plt.rcParams['animation.ffmpeg_path'] = '/usr/bin/ffmpeg'\n",
    "writer = writers['ffmpeg'](fps=10)\n",
    "\n",
    "fig, ax = plt.subplots()\n",
    "\n",
    "ax.set_xlim(-2.5, 2.0)\n",
    "ax.set_ylim(-3.5, 3.5)\n",
    "ax.set_aspect('equal')\n",
    "\n",
    "ax.set_xticks([])\n",
    "ax.set_yticks([])\n",
    "\n",
    "real_trajs = []\n",
    "for _ in range(3):\n",
    "    # ongoing trajectories of dynamic obstacles\n",
    "    line, = ax.plot([], [], linestyle='dashed', linewidth=2, color='tab:grey', zorder=1)\n",
    "    real_trajs.append(line)\n",
    "    \n",
    "    \n",
    "    \n",
    "# tables\n",
    "for i in range(4):\n",
    "    obstacle = plt.Circle(table_pos[i],\n",
    "                          .3,\n",
    "                          ec=(0., 0., 0., 0.5),\n",
    "                          fc=(0., 0., 1., 0.5),\n",
    "                          lw=2,\n",
    "                          )\n",
    "    ax.add_artist(obstacle)\n",
    "\n",
    "timestep = ax.text(2.5, -3.2, '', fontsize=15)\n",
    "\n",
    "pred_trajs0 = []\n",
    "for _ in range(n_pred):\n",
    "    line, = ax.plot([], [], linestyle='solid', linewidth=2, color='tab:red', alpha=0.2, zorder=1)\n",
    "    pred_trajs0.append(line)\n",
    "    \n",
    "pred_trajs1 = []\n",
    "for _ in range(n_pred):\n",
    "    line, = ax.plot([], [], linestyle='solid', linewidth=2, color='tab:red', alpha=0.2, zorder=1)\n",
    "    pred_trajs1.append(line)\n",
    "    \n",
    "pred_trajs2 = []\n",
    "for _ in range(n_pred):\n",
    "    line, = ax.plot([], [], linestyle='solid', linewidth=2, color='tab:red', alpha=0.2, zorder=1)\n",
    "    pred_trajs2.append(line)\n",
    "\n",
    "prev_people = []\n",
    "    \n",
    "preds = [pred_trajs0, pred_trajs1, pred_trajs2]\n",
    "    \n",
    "def func(t):\n",
    "    \n",
    "    for i, line in enumerate(real_trajs):\n",
    "        line.set_data(humans[task, i, t:, 0], humans[task, i, t:, 1])\n",
    "    \n",
    "    for p_fig in list(prev_people):\n",
    "                    p_fig.remove()\n",
    "                    prev_people.remove(p_fig)\n",
    "                \n",
    "    for i in range(3):\n",
    "        \n",
    "        p_fig = ax.add_artist(plt.Circle(humans[task, i, t],\n",
    "                                         .18, ec=(0., 0., 0., 0.5),\n",
    "                                         fc=(1., 0., 0., 0.5),\n",
    "                                         lw=2, zorder=2))\n",
    "        prev_people.append(p_fig)\n",
    "\n",
    "    \n",
    "    for j, pred_t in enumerate(preds):\n",
    "        for i, line in enumerate(pred_t):\n",
    "            p = predictions[j]\n",
    "            line.set_data(p[t, :, i, 0], p[t, :, i, 1])\n",
    "        \n",
    "        \n",
    "    \n",
    "    timestep.set_text('t = {:.2f}sec'.format(t * .1))\n",
    "    \n",
    "fig.tight_layout()\n",
    "    \n",
    "ani = FuncAnimation(fig=fig, func=func, frames=traj_len)\n",
    "ani.save('vid7.mp4'.format(time.strftime(\"%m%d-%H%M%S\")), writer=writer, dpi=100)"
   ]
  },
  {
   "cell_type": "code",
   "execution_count": null,
   "id": "4c21c8c3",
   "metadata": {},
   "outputs": [],
   "source": []
  },
  {
   "cell_type": "code",
   "execution_count": null,
   "id": "76508b99",
   "metadata": {},
   "outputs": [],
   "source": []
  },
  {
   "cell_type": "code",
   "execution_count": null,
   "id": "70ffc513",
   "metadata": {},
   "outputs": [],
   "source": []
  },
  {
   "cell_type": "code",
   "execution_count": null,
   "id": "38e5517c",
   "metadata": {},
   "outputs": [],
   "source": []
  },
  {
   "cell_type": "code",
   "execution_count": null,
   "id": "5eda1615",
   "metadata": {},
   "outputs": [],
   "source": []
  }
 ],
 "metadata": {
  "kernelspec": {
   "display_name": "Python 3 (ipykernel)",
   "language": "python",
   "name": "python3"
  },
  "language_info": {
   "codemirror_mode": {
    "name": "ipython",
    "version": 3
   },
   "file_extension": ".py",
   "mimetype": "text/x-python",
   "name": "python",
   "nbconvert_exporter": "python",
   "pygments_lexer": "ipython3",
   "version": "3.10.9"
  }
 },
 "nbformat": 4,
 "nbformat_minor": 5
}
