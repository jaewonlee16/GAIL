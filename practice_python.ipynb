{
 "cells": [
  {
   "cell_type": "code",
   "execution_count": 2,
   "id": "a330c3df",
   "metadata": {},
   "outputs": [],
   "source": [
    "import numpy as np"
   ]
  },
  {
   "cell_type": "code",
   "execution_count": 4,
   "id": "a61729a0",
   "metadata": {},
   "outputs": [
    {
     "ename": "ModuleNotFoundError",
     "evalue": "No module named 'gail.imitation.data'",
     "output_type": "error",
     "traceback": [
      "\u001b[0;31m---------------------------------------------------------------------------\u001b[0m",
      "\u001b[0;31mModuleNotFoundError\u001b[0m                       Traceback (most recent call last)",
      "Cell \u001b[0;32mIn[4], line 1\u001b[0m\n\u001b[0;32m----> 1\u001b[0m \u001b[38;5;28;01mfrom\u001b[39;00m \u001b[38;5;21;01mgail\u001b[39;00m\u001b[38;5;21;01m.\u001b[39;00m\u001b[38;5;21;01mimitation\u001b[39;00m\u001b[38;5;21;01m.\u001b[39;00m\u001b[38;5;21;01mdata\u001b[39;00m\u001b[38;5;21;01m.\u001b[39;00m\u001b[38;5;21;01mtypes\u001b[39;00m \u001b[38;5;28;01mimport\u001b[39;00m Trajectory\n",
      "\u001b[0;31mModuleNotFoundError\u001b[0m: No module named 'gail.imitation.data'"
     ]
    }
   ],
   "source": [
    "from gail.imitation.data.types import Trajectory"
   ]
  },
  {
   "cell_type": "code",
   "execution_count": 11,
   "id": "03581539",
   "metadata": {},
   "outputs": [],
   "source": [
    "x = np.load('gail/dynamic_obs_states.npy')\n",
    "\n",
    "# u = np.load('dynamic_obs_controls.npy')\n",
    "u = (x[:, :, 1:, 3:] - x[:, :, :-1, 3:]) / 0.1\n",
    "#print(env.dt)\n",
    "n_tasks, n_obs, n_steps, n_dim = x.shape\n",
    "x_goal = np.tile(x[:, :, -1:, :2], (1, 1, n_steps, 1))\n",
    "x = np.concatenate([x, x_goal], axis=-1)\n",
    "#print(n_tasks)\n",
    "n_train_tasks = round(n_tasks * 0.9)\n",
    "n_eval_tasks = n_tasks - n_train_tasks\n",
    "\n",
    "#id = args.id\n",
    "#print(x.shape)  #(? ex3000, 3, 201, 7)\n",
    "\n",
    "rollouts = []\n",
    "\n",
    "for id in range(n_obs):    \n",
    "    for i in range(n_train_tasks):\n",
    "        obs = x[i, id, :, :]\n",
    "        acts = u[i, id, :, :]\n",
    "        #t = Trajectory(obs, acts, None, False)\n",
    "        t = [obs, acts]\n",
    "        rollouts.append(t)"
   ]
  },
  {
   "cell_type": "code",
   "execution_count": 13,
   "id": "4eb88a43",
   "metadata": {},
   "outputs": [
    {
     "data": {
      "text/plain": [
       "(3000, 3, 200, 2)"
      ]
     },
     "execution_count": 13,
     "metadata": {},
     "output_type": "execute_result"
    }
   ],
   "source": [
    "u.shape"
   ]
  },
  {
   "cell_type": "code",
   "execution_count": 14,
   "id": "43cfec43",
   "metadata": {},
   "outputs": [
    {
     "data": {
      "text/plain": [
       "(3000, 3, 201, 7)"
      ]
     },
     "execution_count": 14,
     "metadata": {},
     "output_type": "execute_result"
    }
   ],
   "source": [
    "x.shape"
   ]
  },
  {
   "cell_type": "code",
   "execution_count": null,
   "id": "0403dd29",
   "metadata": {},
   "outputs": [],
   "source": []
  }
 ],
 "metadata": {
  "kernelspec": {
   "display_name": "Python 3 (ipykernel)",
   "language": "python",
   "name": "python3"
  },
  "language_info": {
   "codemirror_mode": {
    "name": "ipython",
    "version": 3
   },
   "file_extension": ".py",
   "mimetype": "text/x-python",
   "name": "python",
   "nbconvert_exporter": "python",
   "pygments_lexer": "ipython3",
   "version": "3.10.9"
  }
 },
 "nbformat": 4,
 "nbformat_minor": 5
}
